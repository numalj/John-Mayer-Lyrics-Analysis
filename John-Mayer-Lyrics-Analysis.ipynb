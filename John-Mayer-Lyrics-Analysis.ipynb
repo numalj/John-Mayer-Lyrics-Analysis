{
 "cells": [
  {
   "cell_type": "markdown",
   "metadata": {},
   "source": [
    "# Problem Statement"
   ]
  },
  {
   "cell_type": "markdown",
   "metadata": {},
   "source": [
    "Every artist goes through changes in life and their music usually reflects that. I'm a big fan of John Mayer's music, mostly because he's one of the few artists that are keeping the guitar solo alive in modern music. Being a big guitar fan I often get distracted and lost in the guitar solos and background music. But the music aspect aside I was curious to learn what John Mayer sings about through his lyrics and find out: \n",
    "1. Changes in vocablury across his albums\n",
    "2. The general sentiment of his lyrics (did they have a positive tone or a negative tone)\n",
    "3. What topics did he sing about\n",
    "\n",
    "I've broken down this project into XX main steps\n",
    "\n",
    "1. **Create the Data Sets**\n",
    "    1. Get the raw data by scraping\n",
    "    2. Clean the Data\n",
    "    3. Convert the data into required formats (Corpus and Document-Term-Matrix)\n",
    "\n",
    "\n",
    "2. **EDA (Explarotary Data Analysis)**\n",
    "    1. Most common words\n",
    "    2. Wordclouds\n",
    "\n",
    "3. **Sentiment Analysis**\n",
    "\n",
    "4. **Topic Modeling**"
   ]
  },
  {
   "cell_type": "markdown",
   "metadata": {},
   "source": [
    "# Create the Data Sets"
   ]
  },
  {
   "cell_type": "markdown",
   "metadata": {},
   "source": [
    "## Introduction"
   ]
  },
  {
   "cell_type": "markdown",
   "metadata": {},
   "source": [
    "In this section I will perform three main steps:\n",
    "\n",
    "1. Get the Data - This will involve scraping the lyrics of each song from a website\n",
    "2. Clean the Data - This invovles pre-processing so that it fits the form on which we can do analysis and NLP on\n",
    "3. Convert the cleaned data into a format that can be used by the algorithms\n",
    "\n",
    "The output of this notebook will be clean, organized data in two standard text formats:\n",
    "\n",
    "1. **Corpus** - a collection of text\n",
    "2. **Document-Term Matrix** - word counts in matrix format"
   ]
  },
  {
   "cell_type": "markdown",
   "metadata": {},
   "source": [
    "## 1. Getting the Raw Data"
   ]
  },
  {
   "cell_type": "markdown",
   "metadata": {},
   "source": [
    "Getting the lyrics of the song involves two steps:\n",
    "\n",
    "1. Make a list of all the songs that I need lyrics for\n",
    "    - Organize the song name, album and year\n",
    "2. Scrape a website to extract the lyrics for each song in the list\n",
    "    - Use genius.com API as well as BeautifulSoup to scrape the lyrics"
   ]
  },
  {
   "cell_type": "markdown",
   "metadata": {},
   "source": [
    "### Organize song names"
   ]
  },
  {
   "cell_type": "markdown",
   "metadata": {},
   "source": [
    "For one of my other projects I wanted to get the names and artists for hundreds of songs across the decades. In that case I used **selenium** to scrape an online list of songs to get the song name and artist.\n",
    "But in this case there are only a few albums and a simple google search gives me the names of the songs, the album and the year."
   ]
  },
  {
   "cell_type": "code",
   "execution_count": 2,
   "metadata": {},
   "outputs": [],
   "source": [
    "import logging\n",
    "logger = logging.getLogger()\n",
    "logger.setLevel(logging.WARN)\n",
    "#logging.debug(\"test\")\n",
    "\n",
    "import pandas as pd"
   ]
  },
  {
   "cell_type": "code",
   "execution_count": null,
   "metadata": {},
   "outputs": [],
   "source": []
  }
 ],
 "metadata": {
  "kernelspec": {
   "display_name": "Python 3",
   "language": "python",
   "name": "python3"
  },
  "language_info": {
   "codemirror_mode": {
    "name": "ipython",
    "version": 3
   },
   "file_extension": ".py",
   "mimetype": "text/x-python",
   "name": "python",
   "nbconvert_exporter": "python",
   "pygments_lexer": "ipython3",
   "version": "3.8.2"
  }
 },
 "nbformat": 4,
 "nbformat_minor": 4
}
